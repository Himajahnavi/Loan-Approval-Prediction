{
  "nbformat": 4,
  "nbformat_minor": 0,
  "metadata": {
    "colab": {
      "provenance": []
    },
    "kernelspec": {
      "name": "python3",
      "display_name": "Python 3"
    },
    "language_info": {
      "name": "python"
    }
  },
  "cells": [
    {
      "source": [
        "import pandas as pd\n",
        "import pickle\n",
        "from sklearn.ensemble import AdaBoostClassifier\n",
        "from sklearn.tree import DecisionTreeClassifier\n",
        "from sklearn.preprocessing import LabelEncoder\n",
        "from sklearn.impute import SimpleImputer # Import SimpleImputer\n",
        "\n",
        "# Load dataset\n",
        "df = pd.read_csv(\"/content/train.csv\")\n",
        "\n",
        "# Preprocessing function\n",
        "def preprocess(df):\n",
        "    df = df.copy()\n",
        "    df['Gender'].fillna(df['Gender'].mode()[0], inplace=True)\n",
        "    df['Married'].fillna(df['Married'].mode()[0], inplace=True)\n",
        "    df['Dependents'].fillna(df['Dependents'].mode()[0], inplace=True)\n",
        "    df['Self_Employed'].fillna(df['Self_Employed'].mode()[0], inplace=True)\n",
        "    df['Credit_History'].fillna(df['Credit_History'].mode()[0], inplace=True)\n",
        "\n",
        "    # Impute missing numerical values with the mean\n",
        "    numerical_features = ['LoanAmount', 'Loan_Amount_Term']\n",
        "    imputer = SimpleImputer(strategy='mean') # Create an imputer instance\n",
        "    df[numerical_features] = imputer.fit_transform(df[numerical_features]) # Fit and transform\n",
        "\n",
        "    df.replace({\n",
        "        'Gender': {'Male': 1, 'Female': 0},\n",
        "        'Married': {'Yes': 1, 'No': 0},\n",
        "        'Education': {'Graduate': 1, 'Not Graduate': 0},\n",
        "        'Self_Employed': {'Yes': 1, 'No': 0},\n",
        "        'Property_Area': {'Urban': 2, 'Semiurban': 1, 'Rural': 0},\n",
        "        'Dependents': {'3+': 4}\n",
        "    }, inplace=True)\n",
        "\n",
        "    df['Dependents'] = df['Dependents'].astype(int)\n",
        "\n",
        "    return df\n",
        "\n",
        "# Preprocess the data\n",
        "df = preprocess(df)\n",
        "\n",
        "# Split features and target\n",
        "X = df.drop(columns=['Loan_Status', 'Loan_ID'])\n",
        "y = df['Loan_Status'].map({'N': 0, 'Y': 1})\n",
        "\n",
        "# Initialize and train AdaBoost model\n",
        "base_estimator = DecisionTreeClassifier(max_depth=1)  # Weak learner\n",
        "model = AdaBoostClassifier(estimator=base_estimator, n_estimators=100, learning_rate=1.0)\n",
        "model.fit(X, y)\n",
        "\n",
        "# Save model\n",
        "with open(\"loan_status_model.pkl\", \"wb\") as f:\n",
        "    pickle.dump(model, f)\n",
        "\n",
        "print(\"✅ AdaBoost model trained and saved as 'loan_status_model.pkl'\")"
      ],
      "cell_type": "code",
      "metadata": {
        "colab": {
          "base_uri": "https://localhost:8080/"
        },
        "id": "PSmbqvWT3Th2",
        "outputId": "693d7e04-4808-428c-9a7d-6e787821961f"
      },
      "execution_count": null,
      "outputs": [
        {
          "output_type": "stream",
          "name": "stderr",
          "text": [
            "<ipython-input-2-66e98abc1c3d>:14: FutureWarning: A value is trying to be set on a copy of a DataFrame or Series through chained assignment using an inplace method.\n",
            "The behavior will change in pandas 3.0. This inplace method will never work because the intermediate object on which we are setting values always behaves as a copy.\n",
            "\n",
            "For example, when doing 'df[col].method(value, inplace=True)', try using 'df.method({col: value}, inplace=True)' or df[col] = df[col].method(value) instead, to perform the operation inplace on the original object.\n",
            "\n",
            "\n",
            "  df['Gender'].fillna(df['Gender'].mode()[0], inplace=True)\n",
            "<ipython-input-2-66e98abc1c3d>:15: FutureWarning: A value is trying to be set on a copy of a DataFrame or Series through chained assignment using an inplace method.\n",
            "The behavior will change in pandas 3.0. This inplace method will never work because the intermediate object on which we are setting values always behaves as a copy.\n",
            "\n",
            "For example, when doing 'df[col].method(value, inplace=True)', try using 'df.method({col: value}, inplace=True)' or df[col] = df[col].method(value) instead, to perform the operation inplace on the original object.\n",
            "\n",
            "\n",
            "  df['Married'].fillna(df['Married'].mode()[0], inplace=True)\n",
            "<ipython-input-2-66e98abc1c3d>:16: FutureWarning: A value is trying to be set on a copy of a DataFrame or Series through chained assignment using an inplace method.\n",
            "The behavior will change in pandas 3.0. This inplace method will never work because the intermediate object on which we are setting values always behaves as a copy.\n",
            "\n",
            "For example, when doing 'df[col].method(value, inplace=True)', try using 'df.method({col: value}, inplace=True)' or df[col] = df[col].method(value) instead, to perform the operation inplace on the original object.\n",
            "\n",
            "\n",
            "  df['Dependents'].fillna(df['Dependents'].mode()[0], inplace=True)\n",
            "<ipython-input-2-66e98abc1c3d>:17: FutureWarning: A value is trying to be set on a copy of a DataFrame or Series through chained assignment using an inplace method.\n",
            "The behavior will change in pandas 3.0. This inplace method will never work because the intermediate object on which we are setting values always behaves as a copy.\n",
            "\n",
            "For example, when doing 'df[col].method(value, inplace=True)', try using 'df.method({col: value}, inplace=True)' or df[col] = df[col].method(value) instead, to perform the operation inplace on the original object.\n",
            "\n",
            "\n",
            "  df['Self_Employed'].fillna(df['Self_Employed'].mode()[0], inplace=True)\n",
            "<ipython-input-2-66e98abc1c3d>:18: FutureWarning: A value is trying to be set on a copy of a DataFrame or Series through chained assignment using an inplace method.\n",
            "The behavior will change in pandas 3.0. This inplace method will never work because the intermediate object on which we are setting values always behaves as a copy.\n",
            "\n",
            "For example, when doing 'df[col].method(value, inplace=True)', try using 'df.method({col: value}, inplace=True)' or df[col] = df[col].method(value) instead, to perform the operation inplace on the original object.\n",
            "\n",
            "\n",
            "  df['Credit_History'].fillna(df['Credit_History'].mode()[0], inplace=True)\n",
            "<ipython-input-2-66e98abc1c3d>:25: FutureWarning: Downcasting behavior in `replace` is deprecated and will be removed in a future version. To retain the old behavior, explicitly call `result.infer_objects(copy=False)`. To opt-in to the future behavior, set `pd.set_option('future.no_silent_downcasting', True)`\n",
            "  df.replace({\n"
          ]
        },
        {
          "output_type": "stream",
          "name": "stdout",
          "text": [
            "✅ AdaBoost model trained and saved as 'loan_status_model.pkl'\n"
          ]
        }
      ]
    },
    {
      "cell_type": "code",
      "source": [],
      "metadata": {
        "id": "1AYeZmO42w-A"
      },
      "execution_count": null,
      "outputs": []
    }
  ]
}